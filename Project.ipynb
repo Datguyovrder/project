{
 "metadata": {
  "name": "",
  "signature": "sha256:051a6b1ce4e3e5ceb220c9b9bcc19b9bcaf87f3365e0931b837d7f2c8201c4ce"
 },
 "nbformat": 3,
 "nbformat_minor": 0,
 "worksheets": [
  {
   "cells": [
    {
     "cell_type": "code",
     "collapsed": false,
     "input": [
      "import ConfigParser\n",
      "from TwitterAPI import TwitterAPI\n",
      "\n",
      "# This method is done for you.\n",
      "def get_twitter(config_file):\n",
      "    \"\"\" Read the config_file and construct an instance of TwitterAPI.\n",
      "    Args:\n",
      "      config_file ... A config file in ConfigParser format with Twitter credentials\n",
      "    Returns:\n",
      "      An instance of TwitterAPI.\n",
      "    \"\"\"\n",
      " \n",
      "    config = ConfigParser.ConfigParser()\n",
      "    config.read(config_file)\n",
      "    twitter = TwitterAPI(\n",
      "                   config.get('twitter', 'consumer_key'),\n",
      "                   config.get('twitter', 'consumer_secret'),\n",
      "                   config.get('twitter', 'access_token'),\n",
      "                   config.get('twitter', 'access_token_secret'))\n",
      "    return twitter\n",
      "\n",
      "twitter = get_twitter('twitter.cfg')\n",
      "print 'Established Twitter connection.'"
     ],
     "language": "python",
     "metadata": {},
     "outputs": [
      {
       "output_type": "stream",
       "stream": "stdout",
       "text": [
        "Established Twitter connection.\n"
       ]
      }
     ],
     "prompt_number": 1
    },
    {
     "cell_type": "code",
     "collapsed": false,
     "input": [
      "#save streamed tweets to a file\n",
      "#each (full) file contains 10,000 tweets\n",
      "\n",
      "import pickle\n",
      "from datetime import datetime\n",
      "import sys\n",
      "import time\n",
      "\n",
      "playing_movies_list = ['OUIJA','GONE GIRL','JOHN WICK','FURY','BEST OF ME','ST VINCENT','BOOK OF LIFE']\n",
      "\n",
      "file_name = \"tweets \" + str(datetime.now()).split('.')[0].replace(':','_') + \".bin\"\n",
      "print \"starting new file: \" + file_name\n",
      "\n",
      "r = twitter.request('statuses/filter', {'track':playing_movies_list, 'filter_level':'low'})\n",
      "\n",
      "tweet_number = 1\n",
      "\n",
      "while True:\n",
      "    try:\n",
      "        for tweet in r:\n",
      "            print \"saved tweet %d from %s\" % (tweet_number, tweet['user']['name'])\n",
      "            pickle.dump(tweet, open(file_name, 'ab'))\n",
      "            tweet_number += 1\n",
      "            if tweet_number > 10000:\n",
      "                tweet_number = 1\n",
      "                file_name = \"tweets \" + str(datetime.now()).split('.')[0].replace(':','_') + \".bin\"\n",
      "                print \"starting new file: \" + file_name\n",
      "    except:\n",
      "        print >> sys.stderr, 'Streaming error...trying again in 30 seconds.'\n",
      "        sys.stderr.flush()\n",
      "        time.sleep(30)"
     ],
     "language": "python",
     "metadata": {},
     "outputs": [
      {
       "output_type": "stream",
       "stream": "stdout",
       "text": [
        "starting new file: tweets 2014-11-02 04_45_22.bin\n",
        "saved tweet 1 from Yuna \u30e6\u30a6\u30ca \u79cb\u5c71.\u2122"
       ]
      },
      {
       "output_type": "stream",
       "stream": "stdout",
       "text": [
        "\n",
        "saved tweet 2 from nikki"
       ]
      },
      {
       "output_type": "stream",
       "stream": "stdout",
       "text": [
        "\n",
        "saved tweet 3 from Romanovna Fine Art "
       ]
      },
      {
       "output_type": "stream",
       "stream": "stdout",
       "text": [
        "\n",
        "saved tweet 4 from WAV"
       ]
      },
      {
       "output_type": "stream",
       "stream": "stdout",
       "text": [
        "\n",
        "saved tweet 5 from Christine Fineza"
       ]
      },
      {
       "output_type": "stream",
       "stream": "stdout",
       "text": [
        "\n",
        "saved tweet 6 from Tessa Herondale "
       ]
      },
      {
       "output_type": "stream",
       "stream": "stdout",
       "text": [
        "\n",
        "saved tweet 7 from Dipak Ragav"
       ]
      },
      {
       "output_type": "stream",
       "stream": "stdout",
       "text": [
        "\n",
        "saved tweet 8 from Wizy Mari"
       ]
      },
      {
       "output_type": "stream",
       "stream": "stdout",
       "text": [
        "\n",
        "saved tweet 9 from Mark"
       ]
      },
      {
       "output_type": "stream",
       "stream": "stdout",
       "text": [
        "\n",
        "saved tweet 10 from B"
       ]
      },
      {
       "output_type": "stream",
       "stream": "stdout",
       "text": [
        "\n",
        "saved tweet 11 from Meaghan Allen"
       ]
      },
      {
       "output_type": "stream",
       "stream": "stdout",
       "text": [
        "\n",
        "saved tweet 12 from Lord President"
       ]
      },
      {
       "output_type": "stream",
       "stream": "stdout",
       "text": [
        "\n",
        "saved tweet 13 from R."
       ]
      },
      {
       "output_type": "stream",
       "stream": "stdout",
       "text": [
        "\n",
        "saved tweet 14 from VentSpleen"
       ]
      },
      {
       "output_type": "stream",
       "stream": "stdout",
       "text": [
        "\n",
        "saved tweet 15 from Naz"
       ]
      },
      {
       "output_type": "stream",
       "stream": "stdout",
       "text": [
        "\n",
        "saved tweet 16 from Samantha Nicole"
       ]
      },
      {
       "output_type": "stream",
       "stream": "stdout",
       "text": [
        "\n",
        "saved tweet 17 from alfia fanany"
       ]
      },
      {
       "output_type": "stream",
       "stream": "stdout",
       "text": [
        "\n",
        "saved tweet 18 from \u2661"
       ]
      },
      {
       "output_type": "stream",
       "stream": "stdout",
       "text": [
        "\n",
        "saved tweet 19 from GreygooFrance"
       ]
      },
      {
       "output_type": "stream",
       "stream": "stdout",
       "text": [
        "\n",
        "saved tweet 20 from Courtney \u265b"
       ]
      },
      {
       "output_type": "stream",
       "stream": "stdout",
       "text": [
        "\n",
        "saved tweet 21 from double A\u2122"
       ]
      },
      {
       "output_type": "stream",
       "stream": "stdout",
       "text": [
        "\n",
        "saved tweet 22 from \u0627\u0644\u0634\u064a\u0628\u0647"
       ]
      },
      {
       "output_type": "stream",
       "stream": "stdout",
       "text": [
        "\n",
        "saved tweet 23 from bobby bobs"
       ]
      },
      {
       "output_type": "stream",
       "stream": "stdout",
       "text": [
        "\n",
        "saved tweet 24 from Cabrona. "
       ]
      },
      {
       "output_type": "stream",
       "stream": "stdout",
       "text": [
        "\n",
        "saved tweet 25 from taliajd"
       ]
      },
      {
       "output_type": "stream",
       "stream": "stdout",
       "text": [
        "\n",
        "saved tweet 26 from Gesza Apriliana"
       ]
      },
      {
       "output_type": "stream",
       "stream": "stdout",
       "text": [
        "\n",
        "saved tweet 27 from Rita Mae Ela"
       ]
      },
      {
       "output_type": "stream",
       "stream": "stdout",
       "text": [
        "\n",
        "saved tweet 28 from pop mundial "
       ]
      },
      {
       "output_type": "stream",
       "stream": "stdout",
       "text": [
        "\n",
        "saved tweet 29 from TRISHA"
       ]
      },
      {
       "output_type": "stream",
       "stream": "stdout",
       "text": [
        "\n",
        "saved tweet 30 from catzin"
       ]
      },
      {
       "output_type": "stream",
       "stream": "stdout",
       "text": [
        "\n",
        "saved tweet 31 from OXYLUMOT\n",
        "saved tweet 32 from SOMETHING/SACRED"
       ]
      },
      {
       "output_type": "stream",
       "stream": "stdout",
       "text": [
        "\n",
        "saved tweet 33 from CRE$I."
       ]
      }
     ]
    },
    {
     "cell_type": "code",
     "collapsed": false,
     "input": [
      "#get a list of all files with saved tweets\n",
      "\n",
      "from os import listdir\n",
      "from os import getcwd\n",
      "from os.path import isfile, join\n",
      "\n",
      "def get_filenames():\n",
      "    #used two pages for creating this code...\n",
      "    #http://stackoverflow.com/questions/3430372/how-to-get-full-path-of-current-directory-in-python\n",
      "    #http://stackoverflow.com/questions/3207219/how-to-list-all-files-of-a-directory-in-python\n",
      "    tweet_files = [ f for f in listdir(getcwd()) if isfile(join(getcwd(),f)) and \"tweets\" in f and \".bin\" in f]\n",
      "    #print '\\n'.join(tweet_files)\n",
      "    return tweet_files\n",
      "print \"added\""
     ],
     "language": "python",
     "metadata": {},
     "outputs": [
      {
       "output_type": "stream",
       "stream": "stdout",
       "text": [
        "added\n"
       ]
      }
     ],
     "prompt_number": 2
    },
    {
     "cell_type": "code",
     "collapsed": false,
     "input": [
      "#create a mechanism to label/save a supervised set of tweets...\n",
      "def classify_tweet(tweet, loaded_tweet_num):\n",
      "    print str(loaded_tweet_num) + \") Tweet by user: \" + tweet['user']['name'] + \" on \" + tweet['created_at'].split('+')[0]\n",
      "    print tweet['text']\n",
      "    classification = input(\"Enter label (0 = neg, 1 = pos, 2 = ignore tweet, 3 = stop classifying): \")\n",
      "    while classification not in (0, 1, 2, 3):\n",
      "        print \"Incorrect input. Enter 0 for negative, 1 for positive, 2 for ignore tweet, 3 to stop classifying.\"\n",
      "        classification = input(\"Enter label (0 = neg, 1 = pos, 2 = ignore tweet, 3 = stop classifying): \")\n",
      "    return classification\n",
      "print \"added\""
     ],
     "language": "python",
     "metadata": {},
     "outputs": [
      {
       "output_type": "stream",
       "stream": "stdout",
       "text": [
        "added\n"
       ]
      }
     ],
     "prompt_number": 3
    },
    {
     "cell_type": "code",
     "collapsed": false,
     "input": [
      "#create a mechanism to label/save a supervised set of tweets...\n",
      "def print_tweet(tweet, loaded_tweet_num):\n",
      "    print str(loaded_tweet_num) + \") Tweet by user: \" + tweet['user']['name'] + \" on \" + tweet['created_at'].split('+')[0]\n",
      "    print tweet['text']\n",
      "print \"added\""
     ],
     "language": "python",
     "metadata": {},
     "outputs": [
      {
       "output_type": "stream",
       "stream": "stdout",
       "text": [
        "added\n"
       ]
      }
     ],
     "prompt_number": 4
    },
    {
     "cell_type": "code",
     "collapsed": false,
     "input": [
      "import pickle\n",
      "\n",
      "def save_labeled_tweet(tweet, label):\n",
      "    labeled_tweets_filename = \"labeled_tweet_s.bin\"\n",
      "    labeled_tweet = {'tweet':tweet, 'sentiment_label':label}\n",
      "    pickle.dump(labeled_tweet, open(labeled_tweets_filename, 'ab'))\n",
      "    if label == 1:\n",
      "        print \"positive tweet saved\"\n",
      "    elif label == 0:\n",
      "        print \"negative tweet saved\"\n",
      "print \"added\""
     ],
     "language": "python",
     "metadata": {},
     "outputs": [
      {
       "output_type": "stream",
       "stream": "stdout",
       "text": [
        "added\n"
       ]
      }
     ],
     "prompt_number": 5
    },
    {
     "cell_type": "code",
     "collapsed": false,
     "input": [
      "#let's try to read back some of the tweets we saved!\n",
      "#I'll manually classify them, then save my work to a new file\n",
      "import pprint, pickle\n",
      "\n",
      "def open_tweets_files():\n",
      "    files = get_filenames()\n",
      "    \n",
      "    #A number of tweets to skip before classification prompts\n",
      "    skipct = 50\n",
      "    \n",
      "    classify = True\n",
      "    #classify = False #just print the tweet\n",
      "\n",
      "    stop_now = False #always start with this false\n",
      "    #stop_now = True #this is only for testing...\n",
      "    \n",
      "    for file_to_open in files:\n",
      "        print \"--------------------------------------------\"\n",
      "        print \"opening file: \" + file_to_open\n",
      "        print \"--------------------------------------------\"\n",
      "        pkl_file = open(file_to_open, 'rb')\n",
      "        loaded_tweet_num = 1\n",
      "        while True:\n",
      "            if skipct > 0:\n",
      "                skipct -= 1\n",
      "                continue\n",
      "            try:\n",
      "                tweet = pickle.load(pkl_file)\n",
      "                if tweet['lang'] != 'en':\n",
      "                    continue\n",
      "                if classify:\n",
      "                    classification = classify_tweet(tweet, loaded_tweet_num) \n",
      "                    if classification == 2:\n",
      "                        print \"ignoring tweet\"\n",
      "                    elif classification == 1:\n",
      "                        save_labeled_tweet(tweet, 1)\n",
      "                    elif classification == 0:\n",
      "                        save_labeled_tweet(tweet, 0)\n",
      "                    elif classification == 3:\n",
      "                        stop_now = True\n",
      "                    else:\n",
      "                        print \"classification error!\"\n",
      "                else:\n",
      "                    print_tweet(tweet, loaded_tweet_num)\n",
      "                loaded_tweet_num += 1\n",
      "            except EOFError:\n",
      "                break\n",
      "            if stop_now:\n",
      "                break\n",
      "        if stop_now:\n",
      "            print \"stopping classification\"\n",
      "            break\n",
      "        \n",
      "open_tweets_files()"
     ],
     "language": "python",
     "metadata": {},
     "outputs": [
      {
       "output_type": "stream",
       "stream": "stdout",
       "text": [
        "--------------------------------------------\n",
        "opening file: tweets 2014-11-02 02_15_54.bin\n",
        "--------------------------------------------\n",
        "1) Tweet by user: \u263c \u0454\u0280\u03b9\u043a\u0251 \u263c on Sun Nov 02 08:15:52 \n",
        "RT @Jmmusic39: 5 minute follow spree! RT: \"I Can't Make You Love Me\" by Bonnie Raitt, one of the best selling songs from the 1990s! http://\u2026\n"
       ]
      },
      {
       "name": "stdout",
       "output_type": "stream",
       "stream": "stdout",
       "text": [
        "Enter label (0 = neg, 1 = pos, 2 = ignore tweet, 3 = stop classifying): 2\n"
       ]
      },
      {
       "output_type": "stream",
       "stream": "stdout",
       "text": [
        "ignoring tweet\n",
        "2) Tweet by user: \u2654 Updates \u2654 on Sun Nov 02 08:15:52 \n",
        "Me: *get ouija board*\n",
        "*contacts ghost*\n",
        "Me: \"I only have 1 question.. \n",
        "Are you Muke AF?\"\n",
        "Ghost: \"I'm Muke AF\"\n"
       ]
      },
      {
       "name": "stdout",
       "output_type": "stream",
       "stream": "stdout",
       "text": [
        "Enter label (0 = neg, 1 = pos, 2 = ignore tweet, 3 = stop classifying): 2\n"
       ]
      },
      {
       "output_type": "stream",
       "stream": "stdout",
       "text": [
        "ignoring tweet\n",
        "3) Tweet by user: Jake Gillespie on Sun Nov 02 08:15:52 \n",
        "Haters may hate, but gone girl is my new favorite movie.\n"
       ]
      },
      {
       "name": "stdout",
       "output_type": "stream",
       "stream": "stdout",
       "text": [
        "Enter label (0 = neg, 1 = pos, 2 = ignore tweet, 3 = stop classifying): 1\n"
       ]
      },
      {
       "output_type": "stream",
       "stream": "stdout",
       "text": [
        "positive tweet saved\n",
        "4) Tweet by user: ALIEN on Sun Nov 02 08:15:55 \n",
        "RT @SUPERJUNlOR: Vote SJ! Best Male Group &amp; UnionPay Artist Of The Year!\n",
        "http://t.co/fVeEG4XQsu http://t.co/gnAKzuX19l\n"
       ]
      },
      {
       "name": "stdout",
       "output_type": "stream",
       "stream": "stdout",
       "text": [
        "Enter label (0 = neg, 1 = pos, 2 = ignore tweet, 3 = stop classifying): 2\n"
       ]
      },
      {
       "output_type": "stream",
       "stream": "stdout",
       "text": [
        "ignoring tweet\n",
        "5) Tweet by user: S.Ho  on Sun Nov 02 08:15:56 \n",
        "RT @AwithH: After watching Ouija we be like #sgvine https://t.co/1mjG2WS6wN\n"
       ]
      },
      {
       "name": "stdout",
       "output_type": "stream",
       "stream": "stdout",
       "text": [
        "Enter label (0 = neg, 1 = pos, 2 = ignore tweet, 3 = stop classifying): 2\n"
       ]
      },
      {
       "output_type": "stream",
       "stream": "stdout",
       "text": [
        "ignoring tweet\n",
        "6) Tweet by user: francis TY JOHNSON on Sun Nov 02 08:15:58 \n",
        "RT @Nashgrier: I believe that certain people can bring the best out of others, &amp; I truly do think you guys make me the best person I can be\u2026\n"
       ]
      },
      {
       "name": "stdout",
       "output_type": "stream",
       "stream": "stdout",
       "text": [
        "Enter label (0 = neg, 1 = pos, 2 = ignore tweet, 3 = stop classifying): 2\n"
       ]
      },
      {
       "output_type": "stream",
       "stream": "stdout",
       "text": [
        "ignoring tweet\n",
        "7) Tweet by user: Anna Ly on Sun Nov 02 08:16:00 \n",
        "RT @ToriKelly: i'd like to think the best of me, is still hiding up my sleeve..\n"
       ]
      },
      {
       "name": "stdout",
       "output_type": "stream",
       "stream": "stdout",
       "text": [
        "Enter label (0 = neg, 1 = pos, 2 = ignore tweet, 3 = stop classifying): 2\n"
       ]
      },
      {
       "output_type": "stream",
       "stream": "stdout",
       "text": [
        "ignoring tweet\n",
        "8) Tweet by user: Mirjam de Koning on Sun Nov 02 08:16:03 \n",
        "RT @FamousWomen: The story of your life has many chapters. One bad chapter doesn't mean it's the end of the book.\n"
       ]
      },
      {
       "name": "stdout",
       "output_type": "stream",
       "stream": "stdout",
       "text": [
        "Enter label (0 = neg, 1 = pos, 2 = ignore tweet, 3 = stop classifying): 2\n"
       ]
      },
      {
       "output_type": "stream",
       "stream": "stdout",
       "text": [
        "ignoring tweet\n",
        "9) Tweet by user: \u3164 on Sun Nov 02 08:16:04 \n",
        "RT @TheMattEspinosa: I got that last quote from the movie fury\n"
       ]
      },
      {
       "name": "stdout",
       "output_type": "stream",
       "stream": "stdout",
       "text": [
        "Enter label (0 = neg, 1 = pos, 2 = ignore tweet, 3 = stop classifying): 2\n"
       ]
      },
      {
       "output_type": "stream",
       "stream": "stdout",
       "text": [
        "ignoring tweet\n",
        "10) Tweet by user: Makaila Stritzel on Sun Nov 02 08:16:04 \n",
        "Please tell me there's a sequel to gone girl?? #mindfucked\n"
       ]
      },
      {
       "name": "stdout",
       "output_type": "stream",
       "stream": "stdout",
       "text": [
        "Enter label (0 = neg, 1 = pos, 2 = ignore tweet, 3 = stop classifying): 2\n"
       ]
      },
      {
       "output_type": "stream",
       "stream": "stdout",
       "text": [
        "ignoring tweet\n",
        "11) Tweet by user: Technology android on Sun Nov 02 08:16:05 \n",
        "#android #iphone iPhone 6 and 6 Plus vs the best of Android: has Apple caught up?   http://t.co/HDpe36ZOfS\n"
       ]
      },
      {
       "name": "stdout",
       "output_type": "stream",
       "stream": "stdout",
       "text": [
        "Enter label (0 = neg, 1 = pos, 2 = ignore tweet, 3 = stop classifying): 2\n"
       ]
      },
      {
       "output_type": "stream",
       "stream": "stdout",
       "text": [
        "ignoring tweet\n",
        "12) Tweet by user: LibraBaby\u264e on Sun Nov 02 08:16:05 \n",
        "Everybody want a girl that's gone hold em' down but if she young and she fine she gone fuck around.\n"
       ]
      },
      {
       "name": "stdout",
       "output_type": "stream",
       "stream": "stdout",
       "text": [
        "Enter label (0 = neg, 1 = pos, 2 = ignore tweet, 3 = stop classifying): 2\n"
       ]
      },
      {
       "output_type": "stream",
       "stream": "stdout",
       "text": [
        "ignoring tweet\n",
        "13) Tweet by user: Ari on Sun Nov 02 08:16:06 \n",
        "Done watching The Best of Me \ud83d\ude2d\ud83d\ude0d\n"
       ]
      },
      {
       "name": "stdout",
       "output_type": "stream",
       "stream": "stdout",
       "text": [
        "Enter label (0 = neg, 1 = pos, 2 = ignore tweet, 3 = stop classifying): 2\n"
       ]
      },
      {
       "output_type": "stream",
       "stream": "stdout",
       "text": [
        "ignoring tweet\n",
        "14) Tweet by user: Clarence Simon on Sun Nov 02 08:16:08 \n",
        "Sooo John wick is a pretty fucking sick movie!! :D\n"
       ]
      },
      {
       "name": "stdout",
       "output_type": "stream",
       "stream": "stdout",
       "text": [
        "Enter label (0 = neg, 1 = pos, 2 = ignore tweet, 3 = stop classifying): 1\n"
       ]
      },
      {
       "output_type": "stream",
       "stream": "stdout",
       "text": [
        "positive tweet saved\n",
        "15) Tweet by user: Jenny Tim  on Sun Nov 02 08:16:09 \n",
        "RT @hemmopendery: \u201c@girlideas: free cookie dough when u buy an ouija board like what are u gonna bake cookies for satan http://t.co/EMxLP31\u2026\n"
       ]
      },
      {
       "name": "stdout",
       "output_type": "stream",
       "stream": "stdout",
       "text": [
        "Enter label (0 = neg, 1 = pos, 2 = ignore tweet, 3 = stop classifying): 2\n"
       ]
      },
      {
       "output_type": "stream",
       "stream": "stdout",
       "text": [
        "ignoring tweet\n",
        "16) Tweet by user: Spooks & Frights on Sun Nov 02 08:16:12 \n",
        "Everyone is talking about Ben Affleck's penis in Gone Girl and no one is talking about Neil Patrick Harris' penis in Gone Girl. What gives?\n"
       ]
      },
      {
       "name": "stdout",
       "output_type": "stream",
       "stream": "stdout",
       "text": [
        "Enter label (0 = neg, 1 = pos, 2 = ignore tweet, 3 = stop classifying): 2\n"
       ]
      },
      {
       "output_type": "stream",
       "stream": "stdout",
       "text": [
        "ignoring tweet\n",
        "17) Tweet by user: Info Us on Sun Nov 02 08:16:12 \n",
        "Before I Go To Sleep: Sharp Objects: A Novel: FROM THE #1 NEW YORK TIMES BESTSELLING AUTHOR OF GONE GIRL Fresh from a http://t.co/av4LogANxM\n"
       ]
      },
      {
       "name": "stdout",
       "output_type": "stream",
       "stream": "stdout",
       "text": [
        "Enter label (0 = neg, 1 = pos, 2 = ignore tweet, 3 = stop classifying): 2\n"
       ]
      },
      {
       "output_type": "stream",
       "stream": "stdout",
       "text": [
        "ignoring tweet\n",
        "18) Tweet by user: pooja nikitha on Sun Nov 02 08:16:13 \n",
        "@prithinarayanan  gone girl ??\n"
       ]
      },
      {
       "name": "stdout",
       "output_type": "stream",
       "stream": "stdout",
       "text": [
        "Enter label (0 = neg, 1 = pos, 2 = ignore tweet, 3 = stop classifying): 2\n"
       ]
      },
      {
       "output_type": "stream",
       "stream": "stdout",
       "text": [
        "ignoring tweet\n",
        "19) Tweet by user: Abhijeet Barve on Sun Nov 02 08:16:14 \n",
        "@_halfticket FURY!!! AND I WANNA WATCH IT TOO :(\n"
       ]
      },
      {
       "name": "stdout",
       "output_type": "stream",
       "stream": "stdout",
       "text": [
        "Enter label (0 = neg, 1 = pos, 2 = ignore tweet, 3 = stop classifying): 2\n"
       ]
      },
      {
       "output_type": "stream",
       "stream": "stdout",
       "text": [
        "ignoring tweet\n",
        "20) Tweet by user: Ernie on Sun Nov 02 08:16:15 \n",
        "So many thoughts watching gone girl but the one that stuck was how weird the mistress's nipples were \ud83d\ude02\ud83d\ude02\ud83d\ude02\n"
       ]
      },
      {
       "name": "stdout",
       "output_type": "stream",
       "stream": "stdout",
       "text": [
        "Enter label (0 = neg, 1 = pos, 2 = ignore tweet, 3 = stop classifying): 2\n"
       ]
      },
      {
       "output_type": "stream",
       "stream": "stdout",
       "text": [
        "ignoring tweet\n",
        "21) Tweet by user: Tami  on Sun Nov 02 08:16:17 \n",
        "RT @amazingupdaters: Me: *get ouija board*\n",
        "*contacts ghost*\n",
        "Me: \"I only have 1 question.. \n",
        "Are you Muke AF?\"\n",
        "Ghost: \"I'm Muke AF\"\n"
       ]
      },
      {
       "name": "stdout",
       "output_type": "stream",
       "stream": "stdout",
       "text": [
        "Enter label (0 = neg, 1 = pos, 2 = ignore tweet, 3 = stop classifying): 2\n"
       ]
      },
      {
       "output_type": "stream",
       "stream": "stdout",
       "text": [
        "ignoring tweet\n",
        "22) Tweet by user: SquidGangOrNoGang on Sun Nov 02 08:16:18 \n",
        "girl thats feeling you \ud83d\udc95\ud83d\udcaf gone always think you got hoes\ud83d\udc6fbecause in her mind everything she sees in you other girls see it too. \ud83d\udc40\ud83d\udc4f\ud83d\udcaf\n"
       ]
      },
      {
       "name": "stdout",
       "output_type": "stream",
       "stream": "stdout",
       "text": [
        "Enter label (0 = neg, 1 = pos, 2 = ignore tweet, 3 = stop classifying): 2\n"
       ]
      },
      {
       "output_type": "stream",
       "stream": "stdout",
       "text": [
        "ignoring tweet\n",
        "23) Tweet by user: Jaena-Mae Corona on Sun Nov 02 08:16:20 \n",
        "I don't know how to feel about Gone Girl\n"
       ]
      },
      {
       "name": "stdout",
       "output_type": "stream",
       "stream": "stdout",
       "text": [
        "Enter label (0 = neg, 1 = pos, 2 = ignore tweet, 3 = stop classifying): 0\n"
       ]
      },
      {
       "output_type": "stream",
       "stream": "stdout",
       "text": [
        "negative tweet saved\n",
        "24) Tweet by user: Martha on Sun Nov 02 08:16:20 \n",
        "I love this so much \ud83d\ude02\ud83d\ude02\ud83d\ude02 DRUNK FILM REVIEW (Gone Girl) :) http://t.co/DhFxG0x37l\n"
       ]
      },
      {
       "name": "stdout",
       "output_type": "stream",
       "stream": "stdout",
       "text": [
        "Enter label (0 = neg, 1 = pos, 2 = ignore tweet, 3 = stop classifying): 2\n"
       ]
      },
      {
       "output_type": "stream",
       "stream": "stdout",
       "text": [
        "ignoring tweet\n",
        "25) Tweet by user: #IAmUnbroken on Sun Nov 02 08:16:22 \n",
        "Unbroken. Gone Girl. Selma. \n",
        "Rosamund Pike\n",
        "Jack O'Connell\n",
        "The Lego Movie\n",
        "\n",
        "#Oscars2015\n"
       ]
      },
      {
       "name": "stdout",
       "output_type": "stream",
       "stream": "stdout",
       "text": [
        "Enter label (0 = neg, 1 = pos, 2 = ignore tweet, 3 = stop classifying): 2\n"
       ]
      },
      {
       "output_type": "stream",
       "stream": "stdout",
       "text": [
        "ignoring tweet\n",
        "26) Tweet by user: olivia anderson on Sun Nov 02 08:16:24 \n",
        "nothing like putting the ouija board back in the box and then have it fucking in a bush when you open THE FRONT FUCKING DOOR\n"
       ]
      },
      {
       "name": "stdout",
       "output_type": "stream",
       "stream": "stdout",
       "text": [
        "Enter label (0 = neg, 1 = pos, 2 = ignore tweet, 3 = stop classifying): 2\n"
       ]
      },
      {
       "output_type": "stream",
       "stream": "stdout",
       "text": [
        "ignoring tweet\n",
        "27) Tweet by user: Ela Patricia M.\u2693\ufe0f on Sun Nov 02 08:16:24 \n",
        "RT @beadelro: \u201cBest of Me\u201d by Nicholas Sparks http://t.co/X8PMKck958\n"
       ]
      },
      {
       "name": "stdout",
       "output_type": "stream",
       "stream": "stdout",
       "text": [
        "Enter label (0 = neg, 1 = pos, 2 = ignore tweet, 3 = stop classifying): 2\n"
       ]
      },
      {
       "output_type": "stream",
       "stream": "stdout",
       "text": [
        "ignoring tweet\n",
        "28) Tweet by user: Tharoath CHUM on Sun Nov 02 08:16:25 \n",
        "RT @WorldwideELFs: It's a daily voting so don't stop voting! Vote SJ 'Best Male Group' ! &amp; 'Union Pay Artist of the Year' Now http://t.co/M\u2026\n"
       ]
      },
      {
       "name": "stdout",
       "output_type": "stream",
       "stream": "stdout",
       "text": [
        "Enter label (0 = neg, 1 = pos, 2 = ignore tweet, 3 = stop classifying): 2\n"
       ]
      },
      {
       "output_type": "stream",
       "stream": "stdout",
       "text": [
        "ignoring tweet\n",
        "29) Tweet by user: david jones on Sun Nov 02 08:16:27 \n",
        "Enjoyed alternative view of Sutton Report-one of best bits of twitter for me is mix of opinions @EdSacredProfane http://t.co/LtJfQh3aX9\n"
       ]
      },
      {
       "name": "stdout",
       "output_type": "stream",
       "stream": "stdout",
       "text": [
        "Enter label (0 = neg, 1 = pos, 2 = ignore tweet, 3 = stop classifying): 2\n"
       ]
      },
      {
       "output_type": "stream",
       "stream": "stdout",
       "text": [
        "ignoring tweet\n",
        "30) Tweet by user: Creative Cutz on Sun Nov 02 08:16:28 \n",
        "Press Release\n",
        "\n",
        "FOR IMMEDIATE RELEASE\n",
        "\n",
        "Creative Cutz Receives 2014 Best of Overland Park Award\n",
        "\n",
        "Overland Park... http://t.co/wD3lOBKmcd\n"
       ]
      },
      {
       "name": "stdout",
       "output_type": "stream",
       "stream": "stdout",
       "text": [
        "Enter label (0 = neg, 1 = pos, 2 = ignore tweet, 3 = stop classifying): 2\n"
       ]
      },
      {
       "output_type": "stream",
       "stream": "stdout",
       "text": [
        "ignoring tweet\n",
        "31) Tweet by user: Keys on Sun Nov 02 08:16:31 \n",
        "Molly got the best of me!\n"
       ]
      },
      {
       "name": "stdout",
       "output_type": "stream",
       "stream": "stdout",
       "text": [
        "Enter label (0 = neg, 1 = pos, 2 = ignore tweet, 3 = stop classifying): 2\n"
       ]
      },
      {
       "output_type": "stream",
       "stream": "stdout",
       "text": [
        "ignoring tweet\n",
        "32) Tweet by user: mya\u2716 pizza\u2666 on Sun Nov 02 08:16:33 \n",
        "RT @lnsaneTweets: *asks the ouija board if bae likes me back*\n"
       ]
      },
      {
       "name": "stdout",
       "output_type": "stream",
       "stream": "stdout",
       "text": [
        "Enter label (0 = neg, 1 = pos, 2 = ignore tweet, 3 = stop classifying): 2\n"
       ]
      },
      {
       "output_type": "stream",
       "stream": "stdout",
       "text": [
        "ignoring tweet\n",
        "33) Tweet by user: Movie Links on Sun Nov 02 08:16:33 \n",
        "John Wick: Movie Details http://t.co/qAAESD0Fy5 #movie #cinema\n"
       ]
      },
      {
       "name": "stdout",
       "output_type": "stream",
       "stream": "stdout",
       "text": [
        "Enter label (0 = neg, 1 = pos, 2 = ignore tweet, 3 = stop classifying): 2\n"
       ]
      },
      {
       "output_type": "stream",
       "stream": "stdout",
       "text": [
        "ignoring tweet\n",
        "34) Tweet by user: Merv at Field Photo on Sun Nov 02 08:16:35 \n",
        "Come along to the wedding fare today at Littleover Grange where you will have chance to meet some of the best... http://t.co/4Ybmwu3fER\n"
       ]
      },
      {
       "name": "stdout",
       "output_type": "stream",
       "stream": "stdout",
       "text": [
        "Enter label (0 = neg, 1 = pos, 2 = ignore tweet, 3 = stop classifying): 2\n"
       ]
      },
      {
       "output_type": "stream",
       "stream": "stdout",
       "text": [
        "ignoring tweet\n",
        "35) Tweet by user: Pornstar Happy on Sun Nov 02 08:16:40 \n",
        "RT @AlexaAimes: Was gone girl meant to be a comedy?\n"
       ]
      },
      {
       "name": "stdout",
       "output_type": "stream",
       "stream": "stdout",
       "text": [
        "Enter label (0 = neg, 1 = pos, 2 = ignore tweet, 3 = stop classifying): 2\n"
       ]
      },
      {
       "output_type": "stream",
       "stream": "stdout",
       "text": [
        "ignoring tweet\n",
        "36) Tweet by user: Dd on Sun Nov 02 08:16:40 \n",
        "what am I supposed to do when the best part of me was always you?\n"
       ]
      },
      {
       "name": "stdout",
       "output_type": "stream",
       "stream": "stdout",
       "text": [
        "Enter label (0 = neg, 1 = pos, 2 = ignore tweet, 3 = stop classifying): 2\n"
       ]
      },
      {
       "output_type": "stream",
       "stream": "stdout",
       "text": [
        "ignoring tweet\n",
        "37) Tweet by user: Movie Links on Sun Nov 02 08:16:42 \n",
        "5. The Book of Life $10.0M: Play Trailers http://t.co/l73zFGpZZT #movie #cinema\n"
       ]
      },
      {
       "name": "stdout",
       "output_type": "stream",
       "stream": "stdout",
       "text": [
        "Enter label (0 = neg, 1 = pos, 2 = ignore tweet, 3 = stop classifying): 2\n"
       ]
      },
      {
       "output_type": "stream",
       "stream": "stdout",
       "text": [
        "ignoring tweet\n",
        "38) Tweet by user: Movie Links on Sun Nov 02 08:16:42 \n",
        "4. Gone Girl $11.0M: Play Trailers http://t.co/lnxNZ26yPZ #movie #cinema\n"
       ]
      },
      {
       "name": "stdout",
       "output_type": "stream",
       "stream": "stdout",
       "text": [
        "Enter label (0 = neg, 1 = pos, 2 = ignore tweet, 3 = stop classifying): 2\n"
       ]
      },
      {
       "output_type": "stream",
       "stream": "stdout",
       "text": [
        "ignoring tweet\n",
        "39) Tweet by user: Movie Links on Sun Nov 02 08:16:42 \n",
        "3. Fury (2014) $13.4M: Play Trailers http://t.co/HXa8FtX9Jf #movie #cinema\n"
       ]
      },
      {
       "name": "stdout",
       "output_type": "stream",
       "stream": "stdout",
       "text": [
        "Enter label (0 = neg, 1 = pos, 2 = ignore tweet, 3 = stop classifying): 2\n"
       ]
      },
      {
       "output_type": "stream",
       "stream": "stdout",
       "text": [
        "ignoring tweet\n",
        "40) Tweet by user: Movie Links on Sun Nov 02 08:16:42 \n",
        "2. John Wick $14.4M: Play Trailers http://t.co/BKw5yfeCln #movie #cinema\n"
       ]
      },
      {
       "name": "stdout",
       "output_type": "stream",
       "stream": "stdout",
       "text": [
        "Enter label (0 = neg, 1 = pos, 2 = ignore tweet, 3 = stop classifying): 2\n"
       ]
      },
      {
       "output_type": "stream",
       "stream": "stdout",
       "text": [
        "ignoring tweet\n",
        "41) Tweet by user: Ellsa Aringga on Sun Nov 02 08:16:44 \n",
        "Watching Ouija (with noki at @cinema21) \u2014 https://t.co/QDjDUHPsMX\n"
       ]
      },
      {
       "name": "stdout",
       "output_type": "stream",
       "stream": "stdout",
       "text": [
        "Enter label (0 = neg, 1 = pos, 2 = ignore tweet, 3 = stop classifying): 2\n"
       ]
      },
      {
       "output_type": "stream",
       "stream": "stdout",
       "text": [
        "ignoring tweet\n",
        "42) Tweet by user: Jennifer Doherty on Sun Nov 02 08:16:46 \n",
        "4 of 5 stars to Gone Girl by Gillian Flynn https://t.co/T8dmxg9vU0\n"
       ]
      },
      {
       "name": "stdout",
       "output_type": "stream",
       "stream": "stdout",
       "text": [
        "Enter label (0 = neg, 1 = pos, 2 = ignore tweet, 3 = stop classifying): 2\n"
       ]
      },
      {
       "output_type": "stream",
       "stream": "stdout",
       "text": [
        "ignoring tweet\n",
        "43) Tweet by user: Nicholas Vargas on Sun Nov 02 08:16:46 \n",
        "Fury was such a good movie \ud83d\ude2d\ud83d\ude2d\n"
       ]
      },
      {
       "name": "stdout",
       "output_type": "stream",
       "stream": "stdout",
       "text": [
        "Enter label (0 = neg, 1 = pos, 2 = ignore tweet, 3 = stop classifying): 1\n"
       ]
      },
      {
       "output_type": "stream",
       "stream": "stdout",
       "text": [
        "positive tweet saved\n",
        "44) Tweet by user: gabboiturbe7 on Sun Nov 02 08:16:49 \n",
        "RT @ManUtd: VIDEO: Watch the best goal from each of @WayneRooney's 10 full seasons at #mufc: http://t.co/TgxB0S7ZTs http://t.co/R4hxGsm8Uq\n"
       ]
      },
      {
       "name": "stdout",
       "output_type": "stream",
       "stream": "stdout",
       "text": [
        "Enter label (0 = neg, 1 = pos, 2 = ignore tweet, 3 = stop classifying): 2\n"
       ]
      },
      {
       "output_type": "stream",
       "stream": "stdout",
       "text": [
        "ignoring tweet\n",
        "45) Tweet by user: Dani Brown on Sun Nov 02 08:16:50 \n",
        "\ud83d\ude45gone girl\ud83d\ude45\ud83d\ude45\ud83d\ude45\ud83d\ude45\u270b #crazy #phsyco #bitch\n"
       ]
      },
      {
       "name": "stdout",
       "output_type": "stream",
       "stream": "stdout",
       "text": [
        "Enter label (0 = neg, 1 = pos, 2 = ignore tweet, 3 = stop classifying): 0\n"
       ]
      },
      {
       "output_type": "stream",
       "stream": "stdout",
       "text": [
        "negative tweet saved\n",
        "46) Tweet by user: _beejalsonigra on Sun Nov 02 08:16:52 \n",
        "RT @ManUtd: Get all the best build-up ahead of Sunday's big game on #MUTV HD, with classic matches &amp; more: http://t.co/LWNptsPNFj http://t.\u2026\n"
       ]
      },
      {
       "name": "stdout",
       "output_type": "stream",
       "stream": "stdout",
       "text": [
        "Enter label (0 = neg, 1 = pos, 2 = ignore tweet, 3 = stop classifying): 2\n"
       ]
      },
      {
       "output_type": "stream",
       "stream": "stdout",
       "text": [
        "ignoring tweet\n",
        "47) Tweet by user: Joyfresh on Sun Nov 02 08:16:54 \n",
        "The story of your life has many chapters. One bad chapter doesn't mean it's the end of the book.\n"
       ]
      },
      {
       "name": "stdout",
       "output_type": "stream",
       "stream": "stdout",
       "text": [
        "Enter label (0 = neg, 1 = pos, 2 = ignore tweet, 3 = stop classifying): 2\n"
       ]
      },
      {
       "output_type": "stream",
       "stream": "stdout",
       "text": [
        "ignoring tweet\n",
        "48) Tweet by user: shayboo2grown on Sun Nov 02 08:16:54 \n",
        "Even if he could he will never let me go I got the best of both worlds \u2728\ud83c\udf0e nd I hope his bitch know that\ud83d\udc44\ud83d\udc45\ud83d\udcaf\n"
       ]
      },
      {
       "name": "stdout",
       "output_type": "stream",
       "stream": "stdout",
       "text": [
        "Enter label (0 = neg, 1 = pos, 2 = ignore tweet, 3 = stop classifying): 2\n"
       ]
      },
      {
       "output_type": "stream",
       "stream": "stdout",
       "text": [
        "ignoring tweet\n",
        "49) Tweet by user: Filar Rozi on Sun Nov 02 08:16:56 \n",
        "Watching Fury (with Ferianawati at @cinema21_bgr) \u2014 https://t.co/nPlO2x4ESQ\n"
       ]
      },
      {
       "name": "stdout",
       "output_type": "stream",
       "stream": "stdout",
       "text": [
        "Enter label (0 = neg, 1 = pos, 2 = ignore tweet, 3 = stop classifying): 2\n"
       ]
      },
      {
       "output_type": "stream",
       "stream": "stdout",
       "text": [
        "ignoring tweet\n",
        "50) Tweet by user: D Craig on Sun Nov 02 08:17:01 \n",
        "why did we see Ouija @emilykornack why\n"
       ]
      },
      {
       "name": "stdout",
       "output_type": "stream",
       "stream": "stdout",
       "text": [
        "Enter label (0 = neg, 1 = pos, 2 = ignore tweet, 3 = stop classifying): 0\n"
       ]
      },
      {
       "output_type": "stream",
       "stream": "stdout",
       "text": [
        "negative tweet saved\n",
        "51) Tweet by user: Vineet Singh on Sun Nov 02 08:17:04 \n",
        "@FuryMovie Fury takes Tiger head on !! Thrilled to watch such a great movie after long time .\n"
       ]
      },
      {
       "name": "stdout",
       "output_type": "stream",
       "stream": "stdout",
       "text": [
        "Enter label (0 = neg, 1 = pos, 2 = ignore tweet, 3 = stop classifying): 1\n"
       ]
      },
      {
       "output_type": "stream",
       "stream": "stdout",
       "text": [
        "positive tweet saved\n",
        "52) Tweet by user: Karen Pi\u00f1on on Sun Nov 02 08:17:05 \n",
        "Fury is a good movie\ud83d\udc4c\n"
       ]
      },
      {
       "name": "stdout",
       "output_type": "stream",
       "stream": "stdout",
       "text": [
        "Enter label (0 = neg, 1 = pos, 2 = ignore tweet, 3 = stop classifying): 1\n"
       ]
      },
      {
       "output_type": "stream",
       "stream": "stdout",
       "text": [
        "positive tweet saved\n",
        "53) Tweet by user: karra burchett on Sun Nov 02 08:17:07 \n",
        "&amp; what am i supposed to do when the best part of me was always you.\n"
       ]
      },
      {
       "name": "stdout",
       "output_type": "stream",
       "stream": "stdout",
       "text": [
        "Enter label (0 = neg, 1 = pos, 2 = ignore tweet, 3 = stop classifying): 2\n"
       ]
      },
      {
       "output_type": "stream",
       "stream": "stdout",
       "text": [
        "ignoring tweet\n",
        "54) Tweet by user: \u266f\u266b Lyna Galliara \u266b\u266f on Sun Nov 02 08:17:08 \n",
        "also the movie 'Gone Girl' did that for me... and 'The Babadook'...\n"
       ]
      },
      {
       "name": "stdout",
       "output_type": "stream",
       "stream": "stdout",
       "text": [
        "Enter label (0 = neg, 1 = pos, 2 = ignore tweet, 3 = stop classifying): 2\n"
       ]
      },
      {
       "output_type": "stream",
       "stream": "stdout",
       "text": [
        "ignoring tweet\n",
        "55) Tweet by user: Snow White on Sun Nov 02 08:17:10 \n",
        "I love nicholas sparks so much but they ruined the best of me so bad in the movie the book is so much better \ud83d\ude2d\ud83d\ude2d\ud83d\ude2d\ud83d\ude2d\ud83d\ude2d\ud83d\ude2d\ud83d\ude2d\ud83d\ude2d\ud83d\ude2d\ud83d\ude2d\ud83d\ude2d\ud83d\ude2d\ud83d\ude2d\ud83d\ude2d\ud83d\ude2d\ud83d\ude2d\ud83d\ude2d\ud83d\ude2d\ud83d\ude2d\ud83d\ude2d\ud83d\ude2d\ud83d\ude2d\ud83d\ude2d\ud83d\ude2d\ud83d\ude2d\ud83d\ude2d\ud83d\ude2d\ud83d\ude2d\ud83d\ude2d\ud83d\ude2d\n"
       ]
      },
      {
       "name": "stdout",
       "output_type": "stream",
       "stream": "stdout",
       "text": [
        "Enter label (0 = neg, 1 = pos, 2 = ignore tweet, 3 = stop classifying): 0\n"
       ]
      },
      {
       "output_type": "stream",
       "stream": "stdout",
       "text": [
        "negative tweet saved\n",
        "56) Tweet by user: NANT on Sun Nov 02 08:17:10 \n",
        "He got the best of me ...\n"
       ]
      },
      {
       "name": "stdout",
       "output_type": "stream",
       "stream": "stdout",
       "text": [
        "Enter label (0 = neg, 1 = pos, 2 = ignore tweet, 3 = stop classifying): 2\n"
       ]
      },
      {
       "output_type": "stream",
       "stream": "stdout",
       "text": [
        "ignoring tweet\n",
        "57) Tweet by user: wilcyrus manguray on Sun Nov 02 08:17:10 \n",
        "Life has a lot of great options, but you don't haveto pick the best.\n",
        "\n",
        "Just pick whatever makes you really happy... http://t.co/UrSYSKMiRc\n"
       ]
      },
      {
       "name": "stdout",
       "output_type": "stream",
       "stream": "stdout",
       "text": [
        "Enter label (0 = neg, 1 = pos, 2 = ignore tweet, 3 = stop classifying): 2\n"
       ]
      },
      {
       "output_type": "stream",
       "stream": "stdout",
       "text": [
        "ignoring tweet\n",
        "58) Tweet by user: Aditya Jakapratama on Sun Nov 02 08:17:11 \n",
        "Watching Fury \u2014 https://t.co/ALAZLeayeu\n"
       ]
      },
      {
       "name": "stdout",
       "output_type": "stream",
       "stream": "stdout",
       "text": [
        "Enter label (0 = neg, 1 = pos, 2 = ignore tweet, 3 = stop classifying): 2\n"
       ]
      },
      {
       "output_type": "stream",
       "stream": "stdout",
       "text": [
        "ignoring tweet\n",
        "59) Tweet by user: Tanveer Ahmad on Sun Nov 02 08:17:11 \n",
        "31 Of The Best And Worst Moments Everyone Experiences While Roadtripping\n",
        "=&gt;... http://t.co/mwTFjAB4jv\n"
       ]
      },
      {
       "name": "stdout",
       "output_type": "stream",
       "stream": "stdout",
       "text": [
        "Enter label (0 = neg, 1 = pos, 2 = ignore tweet, 3 = stop classifying): 2\n"
       ]
      },
      {
       "output_type": "stream",
       "stream": "stdout",
       "text": [
        "ignoring tweet\n",
        "60) Tweet by user: kim on Sun Nov 02 08:17:12 \n",
        "RT @beadelro: \u201cBest of Me\u201d by Nicholas Sparks http://t.co/X8PMKck958\n"
       ]
      },
      {
       "name": "stdout",
       "output_type": "stream",
       "stream": "stdout",
       "text": [
        "Enter label (0 = neg, 1 = pos, 2 = ignore tweet, 3 = stop classifying): 2\n"
       ]
      },
      {
       "output_type": "stream",
       "stream": "stdout",
       "text": [
        "ignoring tweet\n",
        "61) Tweet by user: Philip Shropshire on Sun Nov 02 08:17:12 \n",
        "The Best of New York's Great Jack O'Lantern Blaze http://t.co/yu9Cg9kGTa\n"
       ]
      },
      {
       "name": "stdout",
       "output_type": "stream",
       "stream": "stdout",
       "text": [
        "Enter label (0 = neg, 1 = pos, 2 = ignore tweet, 3 = stop classifying): 2\n"
       ]
      },
      {
       "output_type": "stream",
       "stream": "stdout",
       "text": [
        "ignoring tweet\n",
        "62) Tweet by user: Albss_ on Sun Nov 02 08:17:14 \n",
        "RT @TheMattEspinosa: I got that last quote from the movie fury\n"
       ]
      },
      {
       "name": "stdout",
       "output_type": "stream",
       "stream": "stdout",
       "text": [
        "Enter label (0 = neg, 1 = pos, 2 = ignore tweet, 3 = stop classifying): 2\n"
       ]
      },
      {
       "output_type": "stream",
       "stream": "stdout",
       "text": [
        "ignoring tweet\n",
        "63) Tweet by user: Kristaine Olive PG on Sun Nov 02 08:17:16 \n",
        "RT @rizalinarota19: @sexychiic Done voting w/ 3 accounts,Blackjacks all over the world..Vote 2ne1 on Best Girl Group &amp; Artist of the Year h\u2026\n"
       ]
      },
      {
       "name": "stdout",
       "output_type": "stream",
       "stream": "stdout",
       "text": [
        "Enter label (0 = neg, 1 = pos, 2 = ignore tweet, 3 = stop classifying): 2\n"
       ]
      },
      {
       "output_type": "stream",
       "stream": "stdout",
       "text": [
        "ignoring tweet\n",
        "64) Tweet by user: Ylyt Frixiah Manaig on Sun Nov 02 08:17:17 \n",
        "maybe if I'll watch the best of me alone, i'm totally stupid. The movie is so heartless. Hahahahahaha how could I react on it? YES, ALONE\n"
       ]
      },
      {
       "name": "stdout",
       "output_type": "stream",
       "stream": "stdout",
       "text": [
        "Enter label (0 = neg, 1 = pos, 2 = ignore tweet, 3 = stop classifying): 0\n"
       ]
      },
      {
       "output_type": "stream",
       "stream": "stdout",
       "text": [
        "negative tweet saved\n",
        "65) Tweet by user: sasha on Sun Nov 02 08:17:21 \n",
        "@LamyaVEVO OK BUT OUIJA IS SCARY BUT NOT AS SCARY AS INSIDIOUS 2\n"
       ]
      },
      {
       "name": "stdout",
       "output_type": "stream",
       "stream": "stdout",
       "text": [
        "Enter label (0 = neg, 1 = pos, 2 = ignore tweet, 3 = stop classifying): 2\n"
       ]
      },
      {
       "output_type": "stream",
       "stream": "stdout",
       "text": [
        "ignoring tweet\n",
        "66) Tweet by user: pracu\u015b  on Sun Nov 02 08:17:21 \n",
        "RT @TheMattEspinosa: I got that last quote from the movie fury\n"
       ]
      },
      {
       "name": "stdout",
       "output_type": "stream",
       "stream": "stdout",
       "text": [
        "Enter label (0 = neg, 1 = pos, 2 = ignore tweet, 3 = stop classifying): 2\n"
       ]
      },
      {
       "output_type": "stream",
       "stream": "stdout",
       "text": [
        "ignoring tweet\n",
        "67) Tweet by user: Creative Cutz on Sun Nov 02 08:17:22 \n",
        "Press Release\n",
        "\n",
        "FOR IMMEDIATE RELEASE\n",
        "\n",
        "Creative Cutz Receives 2014 Best of Overland Park Award\n",
        "\n",
        "Overland Park... http://t.co/kj9dvYhMhy\n"
       ]
      },
      {
       "name": "stdout",
       "output_type": "stream",
       "stream": "stdout",
       "text": [
        "Enter label (0 = neg, 1 = pos, 2 = ignore tweet, 3 = stop classifying): 2\n"
       ]
      },
      {
       "output_type": "stream",
       "stream": "stdout",
       "text": [
        "ignoring tweet\n",
        "68) Tweet by user: jersey on Sun Nov 02 08:17:23 \n",
        "RT @TheMattEspinosa: I got that last quote from the movie fury\n"
       ]
      },
      {
       "name": "stdout",
       "output_type": "stream",
       "stream": "stdout",
       "text": [
        "Enter label (0 = neg, 1 = pos, 2 = ignore tweet, 3 = stop classifying): 2\n"
       ]
      },
      {
       "output_type": "stream",
       "stream": "stdout",
       "text": [
        "ignoring tweet\n",
        "69) Tweet by user: \u21aaBrittanie\u21a9 on Sun Nov 02 08:17:25 \n",
        "RT @whereu_wannabe: Even if he could he will never let me go I got the best of both worlds \u2728\ud83c\udf0e nd I hope his bitch know that\ud83d\udc44\ud83d\udc45\ud83d\udcaf\n"
       ]
      },
      {
       "name": "stdout",
       "output_type": "stream",
       "stream": "stdout",
       "text": [
        "Enter label (0 = neg, 1 = pos, 2 = ignore tweet, 3 = stop classifying): 2\n"
       ]
      },
      {
       "output_type": "stream",
       "stream": "stdout",
       "text": [
        "ignoring tweet\n",
        "70) Tweet by user: WayneRooney LuisNani on Sun Nov 02 08:17:27 \n",
        "RT @ChaskaBorek Its very important for me to learn from Michael Owen because he is one of the best strikers. -FEDERICO MACHEDA MUFC Manutd\n"
       ]
      },
      {
       "name": "stdout",
       "output_type": "stream",
       "stream": "stdout",
       "text": [
        "Enter label (0 = neg, 1 = pos, 2 = ignore tweet, 3 = stop classifying): 2\n"
       ]
      },
      {
       "output_type": "stream",
       "stream": "stdout",
       "text": [
        "ignoring tweet\n",
        "71) Tweet by user: \ud601\uc7ac\uc57c \uc0ac\ub791\ud574\uc6a9 \u2665 on Sun Nov 02 08:17:28 \n",
        "RT @sujulovers_indo: MAMA VOTING - Vote SJ for 'Best Male Group' &amp; 'Union Pay Artist of the Year' &amp; support w/ rose http://t.co/aaq5Kjxn4L \u2026\n"
       ]
      },
      {
       "name": "stdout",
       "output_type": "stream",
       "stream": "stdout",
       "text": [
        "Enter label (0 = neg, 1 = pos, 2 = ignore tweet, 3 = stop classifying): 2\n"
       ]
      },
      {
       "output_type": "stream",
       "stream": "stdout",
       "text": [
        "ignoring tweet\n",
        "72) Tweet by user: Stuart Telford on Sun Nov 02 08:17:30 \n",
        "RT @weebelladee: @cheetahcoat @ModernScotsman It was the sheer molten fury I felt after those unionist thugs rampaged through George Sq. At\u2026\n"
       ]
      },
      {
       "name": "stdout",
       "output_type": "stream",
       "stream": "stdout",
       "text": [
        "Enter label (0 = neg, 1 = pos, 2 = ignore tweet, 3 = stop classifying): 2\n"
       ]
      },
      {
       "output_type": "stream",
       "stream": "stdout",
       "text": [
        "ignoring tweet\n",
        "73) Tweet by user: \uc138\uc774 \u2665 on Sun Nov 02 08:17:32 \n",
        "BANGTAN!!! What am I suppose to do, when the best part of me was always you??? ;____; @Bts_twt\n"
       ]
      },
      {
       "name": "stdout",
       "output_type": "stream",
       "stream": "stdout",
       "text": [
        "Enter label (0 = neg, 1 = pos, 2 = ignore tweet, 3 = stop classifying): 2\n"
       ]
      },
      {
       "output_type": "stream",
       "stream": "stdout",
       "text": [
        "ignoring tweet\n",
        "74) Tweet by user: Scuola Parola on Sun Nov 02 08:17:32 \n",
        "Smart thinking from the very talented David Fincher - director of 'Gone Girl', 'The Social Network', 'Fight Club'... http://t.co/7qVp1MsveK\n"
       ]
      },
      {
       "name": "stdout",
       "output_type": "stream",
       "stream": "stdout",
       "text": [
        "Enter label (0 = neg, 1 = pos, 2 = ignore tweet, 3 = stop classifying): 2\n"
       ]
      },
      {
       "output_type": "stream",
       "stream": "stdout",
       "text": [
        "ignoring tweet\n",
        "75) Tweet by user: \u015akittles \u00d8sb\u00f8rn on Sun Nov 02 08:17:33 \n",
        "\"I know who killed Fury....\"\n"
       ]
      },
      {
       "name": "stdout",
       "output_type": "stream",
       "stream": "stdout",
       "text": [
        "Enter label (0 = neg, 1 = pos, 2 = ignore tweet, 3 = stop classifying): 0\n"
       ]
      },
      {
       "output_type": "stream",
       "stream": "stdout",
       "text": [
        "negative tweet saved\n",
        "76) Tweet by user: Ayoung Megantara\u2122 on Sun Nov 02 08:17:33 \n",
        "Watching Ouija (with Eri, Muhamad, and 5 others at Plaza Cibubur XXI) \u2014 https://t.co/lm7ZtQAudf\n"
       ]
      },
      {
       "name": "stdout",
       "output_type": "stream",
       "stream": "stdout",
       "text": [
        "Enter label (0 = neg, 1 = pos, 2 = ignore tweet, 3 = stop classifying): 2\n"
       ]
      },
      {
       "output_type": "stream",
       "stream": "stdout",
       "text": [
        "ignoring tweet\n",
        "77) Tweet by user: Bambang Febrianto on Sun Nov 02 08:17:34 \n",
        "RT @sociotalker: let's talk about john wick, film yang dapat skor tinggi di imdb dan rottentomattoes.\n"
       ]
      },
      {
       "name": "stdout",
       "output_type": "stream",
       "stream": "stdout",
       "text": [
        "Enter label (0 = neg, 1 = pos, 2 = ignore tweet, 3 = stop classifying): 2\n"
       ]
      },
      {
       "output_type": "stream",
       "stream": "stdout",
       "text": [
        "ignoring tweet\n",
        "78) Tweet by user: justin on Sun Nov 02 08:17:34 \n",
        "my nan has a ouija board, who wants to play\n"
       ]
      },
      {
       "name": "stdout",
       "output_type": "stream",
       "stream": "stdout",
       "text": [
        "Enter label (0 = neg, 1 = pos, 2 = ignore tweet, 3 = stop classifying): 2\n"
       ]
      },
      {
       "output_type": "stream",
       "stream": "stdout",
       "text": [
        "ignoring tweet\n",
        "79) Tweet by user: \u24c8\u24ca\u24c7\u24b6\u24bf on Sun Nov 02 08:17:36 \n",
        "Life is like a note book of 3 PAGES\n",
        "\n",
        "1st page BIRTH\n",
        "Last page DEATH\n",
        "&amp;\n",
        "center page EMPTY\n",
        "\n",
        "So fill it with smile, happiness,\n",
        "&amp; enjoy the life.\n"
       ]
      },
      {
       "name": "stdout",
       "output_type": "stream",
       "stream": "stdout",
       "text": [
        "Enter label (0 = neg, 1 = pos, 2 = ignore tweet, 3 = stop classifying): 2\n"
       ]
      },
      {
       "output_type": "stream",
       "stream": "stdout",
       "text": [
        "ignoring tweet\n",
        "80) Tweet by user: too tasty toria on Sun Nov 02 08:17:38 \n",
        "I just watched Ouija and now I'm scared of my fucking atic which the door to it is in my room greaaaaaat\n"
       ]
      },
      {
       "name": "stdout",
       "output_type": "stream",
       "stream": "stdout",
       "text": [
        "Enter label (0 = neg, 1 = pos, 2 = ignore tweet, 3 = stop classifying): 2\n"
       ]
      },
      {
       "output_type": "stream",
       "stream": "stdout",
       "text": [
        "ignoring tweet\n",
        "81) Tweet by user: Carmen Perez on Sun Nov 02 08:17:39 \n",
        "RT @madelineee_14: I don't know what my sister &amp; I just watched but Gone Girl was like the best movie I have seen. omg.\n"
       ]
      },
      {
       "name": "stdout",
       "output_type": "stream",
       "stream": "stdout",
       "text": [
        "Enter label (0 = neg, 1 = pos, 2 = ignore tweet, 3 = stop classifying): 1\n"
       ]
      },
      {
       "output_type": "stream",
       "stream": "stdout",
       "text": [
        "positive tweet saved\n",
        "82) Tweet by user: Name cannot be blank on Sun Nov 02 08:17:39 \n",
        "RT @ryan_estrella23: \"I want her to be the only girl that I love for the rest of my life And give her the best of me 'til the day that I di\u2026\n"
       ]
      },
      {
       "name": "stdout",
       "output_type": "stream",
       "stream": "stdout",
       "text": [
        "Enter label (0 = neg, 1 = pos, 2 = ignore tweet, 3 = stop classifying): 2\n"
       ]
      },
      {
       "output_type": "stream",
       "stream": "stdout",
       "text": [
        "ignoring tweet\n",
        "83) Tweet by user: Install google on Sun Nov 02 08:17:40 \n",
        "#android #iphone iPhone 6 and 6 Plus vs the best of Android: has Apple caught up?   http://t.co/wsni8qsrNs\n"
       ]
      },
      {
       "name": "stdout",
       "output_type": "stream",
       "stream": "stdout",
       "text": [
        "Enter label (0 = neg, 1 = pos, 2 = ignore tweet, 3 = stop classifying): 2\n"
       ]
      },
      {
       "output_type": "stream",
       "stream": "stdout",
       "text": [
        "ignoring tweet\n",
        "84) Tweet by user: Bryan John Chitty on Sun Nov 02 08:17:40 \n",
        "RT @LottieShed: Son helped me dig on #allotment then made a fire and we had smoky sausages for lunch washed down with flask of tea. Best Su\u2026\n"
       ]
      },
      {
       "name": "stdout",
       "output_type": "stream",
       "stream": "stdout",
       "text": [
        "Enter label (0 = neg, 1 = pos, 2 = ignore tweet, 3 = stop classifying): 2\n"
       ]
      },
      {
       "output_type": "stream",
       "stream": "stdout",
       "text": [
        "ignoring tweet\n",
        "85) Tweet by user: manjula narayan on Sun Nov 02 08:17:45 \n",
        "Im wondering if i read Gone girl. Guess i'll soon find out once i watch flick in a bit\n"
       ]
      },
      {
       "name": "stdout",
       "output_type": "stream",
       "stream": "stdout",
       "text": [
        "Enter label (0 = neg, 1 = pos, 2 = ignore tweet, 3 = stop classifying): 2\n"
       ]
      },
      {
       "output_type": "stream",
       "stream": "stdout",
       "text": [
        "ignoring tweet\n",
        "86) Tweet by user: Phaedra on Sun Nov 02 08:17:47 \n",
        "I want to watch ouija board. I asked you to watch it with me and you said you would get back to me but you never did lol\n"
       ]
      },
      {
       "name": "stdout",
       "output_type": "stream",
       "stream": "stdout",
       "text": [
        "Enter label (0 = neg, 1 = pos, 2 = ignore tweet, 3 = stop classifying): 2\n"
       ]
      },
      {
       "output_type": "stream",
       "stream": "stdout",
       "text": [
        "ignoring tweet\n",
        "87) Tweet by user: FafaCelvs on Sun Nov 02 08:17:47 \n",
        "JFW \"THE BEST OF ME\" \ud83d\ude2d\ud83d\ude2d\ud83d\ude2d\ud83d\ude2d\n"
       ]
      },
      {
       "name": "stdout",
       "output_type": "stream",
       "stream": "stdout",
       "text": [
        "Enter label (0 = neg, 1 = pos, 2 = ignore tweet, 3 = stop classifying): 2\n"
       ]
      },
      {
       "output_type": "stream",
       "stream": "stdout",
       "text": [
        "ignoring tweet\n",
        "88) Tweet by user: JARMEYN on Sun Nov 02 08:17:50 \n",
        "Best of me in a bit\n"
       ]
      },
      {
       "name": "stdout",
       "output_type": "stream",
       "stream": "stdout",
       "text": [
        "Enter label (0 = neg, 1 = pos, 2 = ignore tweet, 3 = stop classifying): 2\n"
       ]
      },
      {
       "output_type": "stream",
       "stream": "stdout",
       "text": [
        "ignoring tweet\n",
        "89) Tweet by user: P.E Mr T on Sun Nov 02 08:17:51 \n",
        "Watched #Ouija last night and it got me thinking...@KyranChana @ashley_chana did you move the glass all them years ago?? #TimeToBeHonest\n"
       ]
      },
      {
       "name": "stdout",
       "output_type": "stream",
       "stream": "stdout",
       "text": [
        "Enter label (0 = neg, 1 = pos, 2 = ignore tweet, 3 = stop classifying): 2\n"
       ]
      },
      {
       "output_type": "stream",
       "stream": "stdout",
       "text": [
        "ignoring tweet\n",
        "90) Tweet by user: Mike Frost on Sun Nov 02 08:17:53 \n",
        "Fury killed Fury.\n"
       ]
      },
      {
       "name": "stdout",
       "output_type": "stream",
       "stream": "stdout",
       "text": [
        "Enter label (0 = neg, 1 = pos, 2 = ignore tweet, 3 = stop classifying): 2\n"
       ]
      },
      {
       "output_type": "stream",
       "stream": "stdout",
       "text": [
        "ignoring tweet\n",
        "91) Tweet by user: Armin Manninriang on Sun Nov 02 08:17:54 \n",
        "Best of me *song\n"
       ]
      },
      {
       "name": "stdout",
       "output_type": "stream",
       "stream": "stdout",
       "text": [
        "Enter label (0 = neg, 1 = pos, 2 = ignore tweet, 3 = stop classifying): 2\n"
       ]
      },
      {
       "output_type": "stream",
       "stream": "stdout",
       "text": [
        "ignoring tweet\n",
        "92) Tweet by user: Javier A Begazo on Sun Nov 02 08:17:55 \n",
        "Hey people! Come on! Back this! https://t.co/7uJWRi3uBM\n"
       ]
      },
      {
       "name": "stdout",
       "output_type": "stream",
       "stream": "stdout",
       "text": [
        "Enter label (0 = neg, 1 = pos, 2 = ignore tweet, 3 = stop classifying): 2\n"
       ]
      },
      {
       "output_type": "stream",
       "stream": "stdout",
       "text": [
        "ignoring tweet\n",
        "93) Tweet by user: miamon on Sun Nov 02 08:17:59 \n",
        "@bktinoco isn't Gone Girl something like that too?\n"
       ]
      },
      {
       "name": "stdout",
       "output_type": "stream",
       "stream": "stdout",
       "text": [
        "Enter label (0 = neg, 1 = pos, 2 = ignore tweet, 3 = stop classifying): 2\n"
       ]
      },
      {
       "output_type": "stream",
       "stream": "stdout",
       "text": [
        "ignoring tweet\n",
        "94) Tweet by user: BRUNES on Sun Nov 02 08:18:03 \n",
        "RT @adam2amara: Fury is a good movie to see with bros\n"
       ]
      },
      {
       "name": "stdout",
       "output_type": "stream",
       "stream": "stdout",
       "text": [
        "Enter label (0 = neg, 1 = pos, 2 = ignore tweet, 3 = stop classifying): 1\n"
       ]
      },
      {
       "output_type": "stream",
       "stream": "stdout",
       "text": [
        "positive tweet saved\n",
        "95) Tweet by user: ghariza syifa r on Sun Nov 02 08:18:04 \n",
        "Watching Ouija (with Laela at @cinema21) \u2014 https://t.co/9xXV98Sou4\n"
       ]
      },
      {
       "name": "stdout",
       "output_type": "stream",
       "stream": "stdout",
       "text": [
        "Enter label (0 = neg, 1 = pos, 2 = ignore tweet, 3 = stop classifying): 2\n"
       ]
      },
      {
       "output_type": "stream",
       "stream": "stdout",
       "text": [
        "ignoring tweet\n",
        "96) Tweet by user: 138 on Sun Nov 02 08:18:05 \n",
        "RT @b4sichope: our lives are like a book full of 365 pages, a new book is added each year because we start a new life each year.\n",
        "\n",
        "today we'\u2026\n"
       ]
      },
      {
       "name": "stdout",
       "output_type": "stream",
       "stream": "stdout",
       "text": [
        "Enter label (0 = neg, 1 = pos, 2 = ignore tweet, 3 = stop classifying): 2\n"
       ]
      },
      {
       "output_type": "stream",
       "stream": "stdout",
       "text": [
        "ignoring tweet\n",
        "97) Tweet by user: Nattapim on Sun Nov 02 08:18:09 \n",
        "RT @sujulovers_indo: MAMA VOTING - Vote SJ for 'Best Male Group' &amp; 'Union Pay Artist of the Year' &amp; support w/ rose http://t.co/aaq5Kjxn4L \u2026\n"
       ]
      },
      {
       "name": "stdout",
       "output_type": "stream",
       "stream": "stdout",
       "text": [
        "Enter label (0 = neg, 1 = pos, 2 = ignore tweet, 3 = stop classifying): 2\n"
       ]
      },
      {
       "output_type": "stream",
       "stream": "stdout",
       "text": [
        "ignoring tweet\n",
        "98) Tweet by user: FERNANDA on Sun Nov 02 08:18:14 \n",
        "RT @Calum5SOS: Seeing the movie gone girl has made me scared of any female\n"
       ]
      },
      {
       "name": "stdout",
       "output_type": "stream",
       "stream": "stdout",
       "text": [
        "Enter label (0 = neg, 1 = pos, 2 = ignore tweet, 3 = stop classifying): 0\n"
       ]
      },
      {
       "output_type": "stream",
       "stream": "stdout",
       "text": [
        "negative tweet saved\n",
        "99) Tweet by user: Mik Antonio on Sun Nov 02 08:18:16 \n",
        "As friends we've gathered, hearts are true. Spirits near, we call to you. \udbb8\udf3b\udbb8\udf3b\udbb8\udf41\udbb8\udf41 \u2014 watching Ouija\n"
       ]
      },
      {
       "name": "stdout",
       "output_type": "stream",
       "stream": "stdout",
       "text": [
        "Enter label (0 = neg, 1 = pos, 2 = ignore tweet, 3 = stop classifying): 2\n"
       ]
      },
      {
       "output_type": "stream",
       "stream": "stdout",
       "text": [
        "ignoring tweet\n",
        "100) Tweet by user: hapsoh_02 on Sun Nov 02 08:18:18 \n",
        "RT @CinemaOnline: Congratulations to KIL for winning FFM26 Best Film Award!\n",
        "\n",
        "Find out who the rest of FFM26 winners are BELOW. http://t.co/\u2026\n"
       ]
      },
      {
       "name": "stdout",
       "output_type": "stream",
       "stream": "stdout",
       "text": [
        "Enter label (0 = neg, 1 = pos, 2 = ignore tweet, 3 = stop classifying): 2\n"
       ]
      },
      {
       "output_type": "stream",
       "stream": "stdout",
       "text": [
        "ignoring tweet\n",
        "101) Tweet by user: Derek\u2122 on Sun Nov 02 08:18:18 \n",
        "RT @AwithH: After watching Ouija we be like #sgvine https://t.co/1mjG2WS6wN\n"
       ]
      },
      {
       "name": "stdout",
       "output_type": "stream",
       "stream": "stdout",
       "text": [
        "Enter label (0 = neg, 1 = pos, 2 = ignore tweet, 3 = stop classifying): 0\n"
       ]
      },
      {
       "output_type": "stream",
       "stream": "stdout",
       "text": [
        "negative tweet saved\n",
        "102) Tweet by user: Kate on Sun Nov 02 08:18:18 \n",
        "RT @makailastritzel: Please tell me there's a sequel to gone girl?? #mindfucked\n"
       ]
      },
      {
       "name": "stdout",
       "output_type": "stream",
       "stream": "stdout",
       "text": [
        "Enter label (0 = neg, 1 = pos, 2 = ignore tweet, 3 = stop classifying): 2\n"
       ]
      },
      {
       "output_type": "stream",
       "stream": "stdout",
       "text": [
        "ignoring tweet\n",
        "103) Tweet by user: JRob\u2757\ufe0f on Sun Nov 02 08:18:22 \n",
        "You thought that lil effort you was putting in was gone work but bby girl how bout now?\n"
       ]
      },
      {
       "name": "stdout",
       "output_type": "stream",
       "stream": "stdout",
       "text": [
        "Enter label (0 = neg, 1 = pos, 2 = ignore tweet, 3 = stop classifying): 2\n"
       ]
      },
      {
       "output_type": "stream",
       "stream": "stdout",
       "text": [
        "ignoring tweet\n",
        "104) Tweet by user: Nicole on Sun Nov 02 08:18:22 \n",
        "Gone Girl arrived at lunch time yesterday and I manage to finish it by dinner time tonight. This is a first.\n"
       ]
      },
      {
       "name": "stdout",
       "output_type": "stream",
       "stream": "stdout",
       "text": [
        "Enter label (0 = neg, 1 = pos, 2 = ignore tweet, 3 = stop classifying): 2\n"
       ]
      },
      {
       "output_type": "stream",
       "stream": "stdout",
       "text": [
        "ignoring tweet\n",
        "105) Tweet by user:  NAT on Sun Nov 02 08:18:22 \n",
        "I gotta say that the movie Fury is good &amp; Brad Pitt is so fucking hot \ud83d\ude0c\ud83d\udd25\n"
       ]
      },
      {
       "name": "stdout",
       "output_type": "stream",
       "stream": "stdout",
       "text": [
        "Enter label (0 = neg, 1 = pos, 2 = ignore tweet, 3 = stop classifying): 2\n"
       ]
      },
      {
       "output_type": "stream",
       "stream": "stdout",
       "text": [
        "ignoring tweet\n",
        "106) Tweet by user: YipJovin on Sun Nov 02 08:18:23 \n",
        "RT @RonRonnyRon: Want to watch Ouija!!\n"
       ]
      },
      {
       "name": "stdout",
       "output_type": "stream",
       "stream": "stdout",
       "text": [
        "Enter label (0 = neg, 1 = pos, 2 = ignore tweet, 3 = stop classifying): 2\n"
       ]
      },
      {
       "output_type": "stream",
       "stream": "stdout",
       "text": [
        "ignoring tweet\n",
        "107) Tweet by user: John B. on Sun Nov 02 08:18:27 \n",
        "RT @HyperX: To celebrate #BlizzCon, we have some 64GB HyperX Fury USBs to give away. Just RT and FOLLOW for your chance to WIN! http://t.co\u2026\n"
       ]
      },
      {
       "name": "stdout",
       "output_type": "stream",
       "stream": "stdout",
       "text": [
        "Enter label (0 = neg, 1 = pos, 2 = ignore tweet, 3 = stop classifying): 2\n"
       ]
      },
      {
       "output_type": "stream",
       "stream": "stdout",
       "text": [
        "ignoring tweet\n",
        "108) Tweet by user: Jonathan Adams on Sun Nov 02 08:18:32 \n",
        "Fury is a great film but the cinema we watched it in was amazing. The Showcase deluxe at Cabots circus. The Dolby Atmos sound, WOW!\n"
       ]
      },
      {
       "name": "stdout",
       "output_type": "stream",
       "stream": "stdout",
       "text": [
        "Enter label (0 = neg, 1 = pos, 2 = ignore tweet, 3 = stop classifying): 2\n"
       ]
      },
      {
       "output_type": "stream",
       "stream": "stdout",
       "text": [
        "ignoring tweet\n",
        "109) Tweet by user: half ebay deals on Sun Nov 02 08:18:32 \n",
        "Need affordable Plymouth Sport Fury 1965 #PlymouthSportFury1965 #Plymouth #Sport #Fury #1965 View Best Rates http://t.co/ABAnjCi5x7\n"
       ]
      },
      {
       "name": "stdout",
       "output_type": "stream",
       "stream": "stdout",
       "text": [
        "Enter label (0 = neg, 1 = pos, 2 = ignore tweet, 3 = stop classifying): 2\n"
       ]
      },
      {
       "output_type": "stream",
       "stream": "stdout",
       "text": [
        "ignoring tweet\n",
        "110) Tweet by user: ILLUMIN\u0394TI SCOTTI on Sun Nov 02 08:18:32 \n",
        "Halloween may be over, But I have so many ghost stories I wanna share! I even have an ouija board I haven't used in 6 years.. Who's down?! \ud83d\ude0f\n"
       ]
      },
      {
       "name": "stdout",
       "output_type": "stream",
       "stream": "stdout",
       "text": [
        "Enter label (0 = neg, 1 = pos, 2 = ignore tweet, 3 = stop classifying): 2\n"
       ]
      },
      {
       "output_type": "stream",
       "stream": "stdout",
       "text": [
        "ignoring tweet\n",
        "111) Tweet by user: prototype boy on Sun Nov 02 08:18:34 \n",
        "i cant wati to watch big hero 6 and john wick\n"
       ]
      },
      {
       "name": "stdout",
       "output_type": "stream",
       "stream": "stdout",
       "text": [
        "Enter label (0 = neg, 1 = pos, 2 = ignore tweet, 3 = stop classifying): 2\n"
       ]
      },
      {
       "output_type": "stream",
       "stream": "stdout",
       "text": [
        "ignoring tweet\n",
        "112) Tweet by user: Modern Scotsman on Sun Nov 02 08:18:36 \n",
        "RT @weebelladee: @cheetahcoat @ModernScotsman It was the sheer molten fury I felt after those unionist thugs rampaged through George Sq. At\u2026\n"
       ]
      },
      {
       "name": "stdout",
       "output_type": "stream",
       "stream": "stdout",
       "text": [
        "Enter label (0 = neg, 1 = pos, 2 = ignore tweet, 3 = stop classifying): 2\n"
       ]
      },
      {
       "output_type": "stream",
       "stream": "stdout",
       "text": [
        "ignoring tweet\n",
        "113) Tweet by user: beya on Sun Nov 02 08:18:38 \n",
        "Watched Gone Girl, WOW\n"
       ]
      },
      {
       "name": "stdout",
       "output_type": "stream",
       "stream": "stdout",
       "text": [
        "Enter label (0 = neg, 1 = pos, 2 = ignore tweet, 3 = stop classifying): 3\n"
       ]
      },
      {
       "output_type": "stream",
       "stream": "stdout",
       "text": [
        "stopping classification\n"
       ]
      }
     ],
     "prompt_number": 6
    },
    {
     "cell_type": "code",
     "collapsed": false,
     "input": [
      "pkl_file = open('labeled_tweet_s.bin', 'rb')\n",
      "loaded_tweet_num = 1\n",
      "while True:\n",
      "    try:\n",
      "        tweet = pickle.load(pkl_file)\n",
      "        print tweet['sentiment_label']\n",
      "        print tweet['tweet']['user']['name']\n",
      "    except EOFError:\n",
      "        break"
     ],
     "language": "python",
     "metadata": {},
     "outputs": [
      {
       "output_type": "stream",
       "stream": "stdout",
       "text": [
        "1\n",
        "Jake Gillespie\n",
        "1\n",
        "Makaila Stritzel\n",
        "1\n",
        "Clarence Simon\n",
        "1\n",
        "Abhijeet Barve\n",
        "0\n",
        "Ernie\n",
        "0\n",
        "Jaena-Mae Corona\n",
        "1\n",
        "Martha\n",
        "0\n",
        "#IAmUnbroken\n",
        "0\n",
        "olivia anderson\n",
        "1\n",
        "mya\u2716 pizza\u2666\n",
        "0\n",
        "Pornstar Happy\n",
        "1\n",
        "Ellsa Aringga\n",
        "1\n",
        "Jennifer Doherty\n",
        "1\n",
        "Nicholas Vargas\n",
        "0\n",
        "Dani Brown\n",
        "1\n",
        "Filar Rozi\n",
        "0\n",
        "D Craig\n",
        "1\n",
        "Vineet Singh\n",
        "1\n",
        "Karen Pi\u00f1on\n",
        "1\n",
        "\u266f\u266b Lyna Galliara \u266b\u266f\n",
        "0\n",
        "Snow White\n",
        "0\n",
        "NANT\n",
        "0\n",
        "Ylyt Frixiah Manaig\n",
        "1\n",
        "Scuola Parola\n",
        "0\n",
        "\u015akittles \u00d8sb\u00f8rn\n",
        "1\n",
        "too tasty toria\n",
        "1\n",
        "Carmen Perez\n",
        "1\n",
        "Name cannot be blank\n",
        "0\n",
        "Mike Frost\n",
        "1\n",
        "BRUNES\n",
        "0\n",
        "FERNANDA\n",
        "1\n",
        "Kate\n",
        "1\n",
        " NAT\n",
        "1\n",
        "Jonathan Adams\n",
        "1\n",
        "beya\n",
        "1\n",
        "Cogsworth\n",
        "1\n",
        "Chris Wiltz\n",
        "1\n",
        "Jake Gillespie\n",
        "1\n",
        "Clarence Simon\n",
        "0\n",
        "Jaena-Mae Corona\n",
        "1\n",
        "Nicholas Vargas\n",
        "0\n",
        "Dani Brown\n",
        "0\n",
        "D Craig\n",
        "1\n",
        "Vineet Singh\n",
        "1\n",
        "Karen Pi\u00f1on\n",
        "0\n",
        "Snow White\n",
        "0\n",
        "Ylyt Frixiah Manaig\n",
        "0\n",
        "\u015akittles \u00d8sb\u00f8rn\n",
        "1\n",
        "Carmen Perez\n",
        "1\n",
        "BRUNES\n",
        "0\n",
        "FERNANDA\n",
        "0\n",
        "Derek\u2122\n"
       ]
      }
     ],
     "prompt_number": 7
    },
    {
     "cell_type": "code",
     "collapsed": false,
     "input": [],
     "language": "python",
     "metadata": {},
     "outputs": []
    }
   ],
   "metadata": {}
  }
 ]
}