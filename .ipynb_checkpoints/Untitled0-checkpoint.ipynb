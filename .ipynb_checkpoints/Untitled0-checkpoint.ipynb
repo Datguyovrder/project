{
 "metadata": {
  "name": "",
  "signature": "sha256:be21bfab68de7bbbcffa98cfc7330bd983d0e47615002b73b1e37a910381b4ca"
 },
 "nbformat": 3,
 "nbformat_minor": 0,
 "worksheets": [
  {
   "cells": [
    {
     "cell_type": "code",
     "collapsed": true,
     "input": [
      "import ConfigParser\n",
      "from TwitterAPI import TwitterAPI\n",
      "import re\n",
      "from StringIO import StringIO\n",
      "from zipfile import ZipFile\n",
      "from urllib import urlopen\n",
      "import sys\n",
      "import pickle\n",
      "\n",
      "def get_twitter(config_file):\n",
      "    config = ConfigParser.ConfigParser()\n",
      "    config.read(config_file)\n",
      "    twitter = TwitterAPI(\n",
      "    config.get('twitter', 'consumer_key'),\n",
      "    config.get('twitter', 'consumer_secret'),\n",
      "    config.get('twitter', 'access_token'),\n",
      "    config.get('twitter', 'access_token_secret'))\n",
      "    return twitter\n",
      "\n",
      "def afinn_sentiment2(terms, afinn, verbose=False):\n",
      "    pos = 0\n",
      "    neg = 0\n",
      "\n",
      "    for t in terms:\n",
      "        if t in afinn:\n",
      "            if verbose:\n",
      "                print '\\t%s=%d' % (t, afinn[t])\n",
      "            if afinn[t] > 0:\n",
      "                pos += afinn[t]\n",
      "            else:\n",
      "                neg += -1 * afinn[t]\n",
      "    return pos, neg\n",
      "\n",
      "def tokenize(text):\n",
      "    return re.sub('\\W+', ' ', text.lower()).split()\n",
      "\n",
      "url = urlopen('http://www2.compute.dtu.dk/~faan/data/AFINN.zip')\n",
      "zipfile = ZipFile(StringIO(url.read()))\n",
      "afinn_file = zipfile.open('AFINN/AFINN-111.txt')\n",
      "afinn = dict()\n",
      "\n",
      "for line in afinn_file:\n",
      "    parts = line.strip().split()\n",
      "    if len(parts) == 2:\n",
      "        afinn[parts[0]] = int(parts[1])\n",
      "\n",
      "twitter = get_twitter('twitter.cfg')\n",
      "tweets = []\n",
      "\n",
      "for r in twitter.request('search/tweets', {'q': sys.argv[1], 'count': 100}):\n",
      "    tweets.append(r)\n",
      "\n",
      "pickle.dump(tweets,open(sys.argv[1]+'.pkl','wb'))\n",
      "tokens = [tokenize(t['text']) for t in tweets]\n",
      "positives = []\n",
      "negatives = []\n",
      "\n",
      "for tweet in tokens:\n",
      "    pos, neg = afinn_sentiment2(tweet, afinn)\n",
      "    if pos > neg:\n",
      "        positives.append((' '.join(tweet), pos, neg))\n",
      "    elif neg > pos:\n",
      "        negatives.append((' '.join(tweet), pos, neg))\n",
      "\n",
      "#for tweet, pos, neg in sorted(positives, key=lambda x: x[1], reverse=True):\n",
      "# print pos, neg, tweet\n",
      "rating = (1.0*len(positives)+1.0)/(len(positives)+len(negatives)+1.0)*100.0\n",
      "print rating\n",
      "\n",
      "with open(\"results.txt\", \"a\") as myfile:\n",
      "    myfile.write(sys.argv[1]+' '+str(rating)+'\\n')"
     ],
     "language": "python",
     "metadata": {},
     "outputs": [
      {
       "ename": "IndentationError",
       "evalue": "expected an indented block (<ipython-input-3-8a6652177000>, line 71)",
       "output_type": "pyerr",
       "traceback": [
        "\u001b[1;36m  File \u001b[1;32m\"<ipython-input-3-8a6652177000>\"\u001b[1;36m, line \u001b[1;32m71\u001b[0m\n\u001b[1;33m    myfile.write(sys.argv[1]+' '+str(rating)+'\\n')\u001b[0m\n\u001b[1;37m         ^\u001b[0m\n\u001b[1;31mIndentationError\u001b[0m\u001b[1;31m:\u001b[0m expected an indented block\n"
       ]
      }
     ],
     "prompt_number": 3
    },
    {
     "cell_type": "code",
     "collapsed": true,
     "input": [],
     "language": "python",
     "metadata": {},
     "outputs": []
    }
   ],
   "metadata": {}
  }
 ]
}